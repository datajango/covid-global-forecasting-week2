{
 "cells": [
  {
   "cell_type": "code",
   "execution_count": 2,
   "metadata": {},
   "outputs": [],
   "source": [
    "import pandas as pd\n",
    "import matplotlib.pyplot as plt\n",
    "train = pd.read_csv(\"./data/train.csv\")"
   ]
  },
  {
   "cell_type": "code",
   "execution_count": 2,
   "metadata": {},
   "outputs": [],
   "source": []
  },
  {
   "cell_type": "code",
   "execution_count": 4,
   "metadata": {},
   "outputs": [
    {
     "data": {
      "text/plain": [
       "array([nan, 'Australian Capital Territory', 'New South Wales',\n",
       "       'Northern Territory', 'Queensland', 'South Australia', 'Tasmania',\n",
       "       'Victoria', 'Western Australia', 'Alberta', 'British Columbia',\n",
       "       'Manitoba', 'New Brunswick', 'Newfoundland and Labrador',\n",
       "       'Nova Scotia', 'Ontario', 'Prince Edward Island', 'Quebec',\n",
       "       'Saskatchewan', 'Anhui', 'Beijing', 'Chongqing', 'Fujian', 'Gansu',\n",
       "       'Guangdong', 'Guangxi', 'Guizhou', 'Hainan', 'Hebei',\n",
       "       'Heilongjiang', 'Henan', 'Hong Kong', 'Hubei', 'Hunan',\n",
       "       'Inner Mongolia', 'Jiangsu', 'Jiangxi', 'Jilin', 'Liaoning',\n",
       "       'Macau', 'Ningxia', 'Qinghai', 'Shaanxi', 'Shandong', 'Shanghai',\n",
       "       'Shanxi', 'Sichuan', 'Tianjin', 'Tibet', 'Xinjiang', 'Yunnan',\n",
       "       'Zhejiang', 'Faroe Islands', 'Greenland', 'French Guiana',\n",
       "       'French Polynesia', 'Guadeloupe', 'Martinique', 'Mayotte',\n",
       "       'New Caledonia', 'Reunion', 'Saint Barthelemy', 'St Martin',\n",
       "       'Aruba', 'Curacao', 'Sint Maarten', 'Alabama', 'Alaska', 'Arizona',\n",
       "       'Arkansas', 'California', 'Colorado', 'Connecticut', 'Delaware',\n",
       "       'District of Columbia', 'Florida', 'Georgia', 'Guam', 'Hawaii',\n",
       "       'Idaho', 'Illinois', 'Indiana', 'Iowa', 'Kansas', 'Kentucky',\n",
       "       'Louisiana', 'Maine', 'Maryland', 'Massachusetts', 'Michigan',\n",
       "       'Minnesota', 'Mississippi', 'Missouri', 'Montana', 'Nebraska',\n",
       "       'Nevada', 'New Hampshire', 'New Jersey', 'New Mexico', 'New York',\n",
       "       'North Carolina', 'North Dakota', 'Ohio', 'Oklahoma', 'Oregon',\n",
       "       'Pennsylvania', 'Puerto Rico', 'Rhode Island', 'South Carolina',\n",
       "       'South Dakota', 'Tennessee', 'Texas', 'Utah', 'Vermont',\n",
       "       'Virgin Islands', 'Virginia', 'Washington', 'West Virginia',\n",
       "       'Wisconsin', 'Wyoming', 'Bermuda', 'Cayman Islands',\n",
       "       'Channel Islands', 'Gibraltar', 'Isle of Man', 'Montserrat'],\n",
       "      dtype=object)"
      ]
     },
     "execution_count": 4,
     "metadata": {},
     "output_type": "execute_result"
    }
   ],
   "source": [
    "#train.columns\n",
    "#Index(['Id', 'Province_State', 'Country_Region', 'Date', 'ConfirmedCases','Fatalities'], dtype='object')\n",
    "#List unique values in the train['Country_Region'] column\n",
    "#regions = train['Country_Region'].unique()\n",
    "# type(train['Country_Region'])\n",
    "\n",
    "#number_of_regions = len(regions)\n",
    "#train.plot(kind='scatter',x='Date',y='ConfirmedCases',color='red')\n",
    "#plt.show()\n",
    "#regions_df = pd.DataFrame(data=regions, columns=[\"index\", \"country_region\"])\n",
    "#train.Country_Region = train.Country_Region.replace({\"Taiwan*\", \"Taiwan\"})\n",
    "states = train['Province_State'].unique()\n",
    "states"
   ]
  }
 ],
 "metadata": {
  "kernelspec": {
   "display_name": "Python 3.7.6 64-bit ('py37covid19': conda)",
   "language": "python",
   "name": "python37664bitpy37covid19condae758119252a247dd98e630069a6270e7"
  },
  "language_info": {
   "codemirror_mode": {
    "name": "ipython",
    "version": 3
   },
   "file_extension": ".py",
   "mimetype": "text/x-python",
   "name": "python",
   "nbconvert_exporter": "python",
   "pygments_lexer": "ipython3",
   "version": "3.7.6"
  }
 },
 "nbformat": 4,
 "nbformat_minor": 4
}
